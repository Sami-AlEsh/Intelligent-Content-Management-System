{
  "nbformat": 4,
  "nbformat_minor": 0,
  "metadata": {
    "colab": {
      "name": "CopyFolderFromDrive.ipynb",
      "provenance": [],
      "collapsed_sections": []
    },
    "kernelspec": {
      "name": "python3",
      "display_name": "Python 3"
    },
    "language_info": {
      "name": "python"
    }
  },
  "cells": [
    {
      "cell_type": "markdown",
      "metadata": {
        "id": "WQnljg9-jkPl"
      },
      "source": [
        "#### Colab Section"
      ]
    },
    {
      "cell_type": "code",
      "metadata": {
        "colab": {
          "base_uri": "https://localhost:8080/"
        },
        "id": "ZpYpxLGcjJMs",
        "outputId": "5915305d-a2d5-424f-d8bd-9e9ddf509689"
      },
      "source": [
        "from google.colab import drive\n",
        "drive.mount('/content/gdrive')"
      ],
      "execution_count": null,
      "outputs": [
        {
          "output_type": "stream",
          "text": [
            "Mounted at /content/gdrive\n"
          ],
          "name": "stdout"
        }
      ]
    },
    {
      "cell_type": "markdown",
      "metadata": {
        "id": "AizCz5r_tOdz"
      },
      "source": [
        "Put shortcut path here to copy it's path"
      ]
    },
    {
      "cell_type": "code",
      "metadata": {
        "colab": {
          "base_uri": "https://localhost:8080/"
        },
        "id": "3JjAwK-cjoIF",
        "outputId": "0a5dea60-76b8-4663-8d4c-a59b905ae048"
      },
      "source": [
        "%cd \"/content/gdrive/MyDrive/outs\""
      ],
      "execution_count": null,
      "outputs": [
        {
          "output_type": "stream",
          "text": [
            "/content/gdrive/.shortcut-targets-by-id/1z6TRLxEjW4V4jhBdUtSdei_M3SEEx6EW/outs\n"
          ],
          "name": "stdout"
        }
      ]
    },
    {
      "cell_type": "markdown",
      "metadata": {
        "id": "W-du5heKtSL8"
      },
      "source": [
        "use this command and copy the output path"
      ]
    },
    {
      "cell_type": "code",
      "metadata": {
        "colab": {
          "base_uri": "https://localhost:8080/",
          "height": 35
        },
        "id": "yo7D4AGollVt",
        "outputId": "a275cfb2-51d7-4eed-dcc2-f88826609e81"
      },
      "source": [
        "%pwd"
      ],
      "execution_count": null,
      "outputs": [
        {
          "output_type": "execute_result",
          "data": {
            "application/vnd.google.colaboratory.intrinsic+json": {
              "type": "string"
            },
            "text/plain": [
              "'/content/gdrive/.shortcut-targets-by-id/1z6TRLxEjW4V4jhBdUtSdei_M3SEEx6EW/outs'"
            ]
          },
          "metadata": {
            "tags": []
          },
          "execution_count": 10
        }
      ]
    },
    {
      "cell_type": "markdown",
      "metadata": {
        "id": "ZOEnvfGotXnf"
      },
      "source": [
        "First, paste copied path, then paste destination folder"
      ]
    },
    {
      "cell_type": "code",
      "metadata": {
        "id": "Z3rHkoacqoiC"
      },
      "source": [
        "!cp -r '/content/gdrive/.shortcut-targets-by-id/1z6TRLxEjW4V4jhBdUtSdei_M3SEEx6EW/outs/.' '/content/gdrive/My Drive/kpe_model_data'"
      ],
      "execution_count": null,
      "outputs": []
    }
  ]
}