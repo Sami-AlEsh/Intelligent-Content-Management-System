{
  "nbformat": 4,
  "nbformat_minor": 2,
  "metadata": {
    "colab": {
      "name": "ExportModel",
      "provenance": [],
      "collapsed_sections": []
    },
    "kernelspec": {
      "name": "python3",
      "display_name": "Python 3"
    },
    "language_info": {
      "name": "python"
    }
  },
  "cells": [
    {
      "cell_type": "markdown",
      "source": [
        "Mount you Drive account to zip model data"
      ],
      "metadata": {
        "id": "88yZ0HtCJzBY"
      }
    },
    {
      "cell_type": "code",
      "execution_count": 4,
      "source": [
        "from google.colab import drive\r\n",
        "drive.mount('/content/gdrive')"
      ],
      "outputs": [
        {
          "output_type": "stream",
          "name": "stdout",
          "text": [
            "Drive already mounted at /content/gdrive; to attempt to forcibly remount, call drive.mount(\"/content/gdrive\", force_remount=True).\n"
          ]
        }
      ],
      "metadata": {
        "colab": {
          "base_uri": "https://localhost:8080/"
        },
        "id": "1pXbf2uQJwBh",
        "outputId": "19ed8ab2-f2d2-4f9a-8059-ffc26c6dd43f"
      }
    },
    {
      "cell_type": "code",
      "execution_count": null,
      "source": [
        "!zip -r '/content/gdrive/MyDrive/model_data.zip' '/content/gdrive/MyDrive/_model_data'"
      ],
      "outputs": [],
      "metadata": {
        "colab": {
          "base_uri": "https://localhost:8080/"
        },
        "id": "eVjj1KVIKLib",
        "outputId": "d6508df9-572c-4aa7-edec-f48b872b85ea"
      }
    },
    {
      "cell_type": "markdown",
      "source": [
        "**Done, Now share the file and run ImportModel.py from another account**"
      ],
      "metadata": {
        "id": "GG2-hrHMLSfF"
      }
    }
  ]
}