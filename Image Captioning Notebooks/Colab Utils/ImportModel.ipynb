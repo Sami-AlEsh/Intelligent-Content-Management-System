{
  "nbformat": 4,
  "nbformat_minor": 0,
  "metadata": {
    "colab": {
      "name": "ImportModel.ipynb",
      "provenance": []
    },
    "kernelspec": {
      "name": "python3",
      "display_name": "Python 3"
    },
    "language_info": {
      "name": "python"
    }
  },
  "cells": [
    {
      "cell_type": "markdown",
      "metadata": {
        "id": "aw9ICPR5Mgpu"
      },
      "source": [
        "Paste file URL here to download"
      ]
    },
    {
      "cell_type": "code",
      "metadata": {
        "id": "xZFkrzY5MDUF"
      },
      "source": [
        "import gdown\n",
        "\n",
        "file_url = input('Enter model_data.zip file url here:\\n')\n",
        "file_id = file_url.split('/')[-2]\n",
        "gdown.download(url=f'https://drive.google.com/uc?id={file_id}', output='model_data.zip', quiet=False)"
      ],
      "execution_count": null,
      "outputs": []
    },
    {
      "cell_type": "markdown",
      "metadata": {
        "id": "DPdRskFB32Tq"
      },
      "source": [
        "Mount your previous drive account"
      ]
    },
    {
      "cell_type": "code",
      "metadata": {
        "id": "hDtIW4NmyhvE"
      },
      "source": [
        "from google.colab import drive\n",
        "drive.mount('/content/gdrive')"
      ],
      "execution_count": null,
      "outputs": []
    },
    {
      "cell_type": "code",
      "metadata": {
        "id": "shLVUxSVNfcH"
      },
      "source": [
        "!unzip /content/model_data.zip"
      ],
      "execution_count": null,
      "outputs": []
    },
    {
      "cell_type": "code",
      "metadata": {
        "id": "wEtNHur0P1vG"
      },
      "source": [
        "import shutil\n",
        "shutil.move('/content/content/gdrive/MyDrive/_model_data','/content/gdrive/MyDrive/_model_data')"
      ],
      "execution_count": null,
      "outputs": []
    },
    {
      "cell_type": "markdown",
      "metadata": {
        "id": "vtTbfh_JOo-R"
      },
      "source": [
        "**Done, other temp files will be removed when session ended**"
      ]
    }
  ]
}