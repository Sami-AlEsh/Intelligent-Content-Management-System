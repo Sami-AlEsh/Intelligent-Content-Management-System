{
  "nbformat": 4,
  "nbformat_minor": 2,
  "metadata": {
    "colab": {
      "name": "ic_ar_scores.ipynb",
      "provenance": [],
      "collapsed_sections": []
    },
    "kernelspec": {
      "name": "python3",
      "display_name": "Python 3"
    },
    "language_info": {
      "name": "python"
    }
  },
  "cells": [
    {
      "cell_type": "markdown",
      "source": [
        "Bleu Score"
      ],
      "metadata": {
        "id": "U1fEKjWIQyYB"
      }
    },
    {
      "cell_type": "code",
      "execution_count": 1,
      "source": [
        "from nltk.translate import bleu_score"
      ],
      "outputs": [],
      "metadata": {
        "id": "JSmMkifhKfQG"
      }
    },
    {
      "cell_type": "code",
      "execution_count": null,
      "source": [
        "# Examples:\r\n",
        "\r\n",
        "hypothesis = ['It', 'is', 'a', 'cat', 'at', 'room']\r\n",
        "reference = ['It', 'is', 'a', 'cat', 'inside', 'the', 'room']\r\n",
        "#there may be several references\r\n",
        "BLEUscore = bleu_score.sentence_bleu([reference], hypothesis)\r\n",
        "print(BLEUscore)\r\n",
        "\r\n",
        "hyp1 = ['It', 'is', 'a', 'cat', 'at', 'the', 'room']\r\n",
        "ref1 = ['It', 'is', 'a', 'cat', 'inside', 'the', 'room']\r\n",
        "hyp2 = ['He', 'is', 'a', 'dump']\r\n",
        "ref2 = ['He', 'is', 'a', 'dump']\r\n",
        "\r\n",
        "hypotheses = [hyp1, hyp2]\r\n",
        "list_of_references = [[ref1], [ref2]]\r\n",
        "BLEUscore = bleu_score.corpus_bleu(list_of_references, hypotheses)\r\n",
        "print(BLEUscore)"
      ],
      "outputs": [],
      "metadata": {
        "colab": {
          "base_uri": "https://localhost:8080/"
        },
        "id": "Xpo5u6nLRAmt",
        "outputId": "afec41ad-d14b-4c61-e08c-7c736f4ec644"
      }
    },
    {
      "cell_type": "markdown",
      "source": [
        "METEOR Score"
      ],
      "metadata": {
        "id": "AqOlmbPHRZE9"
      }
    },
    {
      "cell_type": "code",
      "execution_count": null,
      "source": [
        "!pip install -U nltk # colab is using old version of nltk that doesn't contain meteor metric\r\n",
        "from nltk.translate.meteor_score import meteor_score"
      ],
      "outputs": [],
      "metadata": {
        "colab": {
          "base_uri": "https://localhost:8080/"
        },
        "id": "N2aKbewrRgVa",
        "outputId": "53959f54-1262-4e6b-9e02-0710f1ec3e63"
      }
    },
    {
      "cell_type": "code",
      "execution_count": null,
      "source": [
        "# Examples:\r\n",
        "print (meteor_score([\"this is an apple\", \"that is an apple\"], \"an apple on this tree\"))\r\n",
        "print (meteor_score([\"this is an apple\", \"that is an apple\"], \"a red color fruit\"))"
      ],
      "outputs": [],
      "metadata": {
        "colab": {
          "base_uri": "https://localhost:8080/"
        },
        "id": "PRW0-v8TRTJB",
        "outputId": "e3e584de-ed67-427e-9a3b-2195a70f9163"
      }
    }
  ]
}