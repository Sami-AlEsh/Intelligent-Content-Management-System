{
  "nbformat": 4,
  "nbformat_minor": 2,
  "metadata": {
    "colab": {
      "name": "ic_ar_sami_v4_metrics.ipynb",
      "provenance": [],
      "collapsed_sections": [
        "LeyWXRVUepFZ",
        "FbmzfaZMfNvH",
        "zJSqeGE2fVZI"
      ]
    },
    "kernelspec": {
      "name": "python3",
      "display_name": "Python 3"
    },
    "language_info": {
      "name": "python"
    },
    "accelerator": "TPU"
  },
  "cells": [
    {
      "cell_type": "markdown",
      "source": [
        "## Link Drive & import libs"
      ],
      "metadata": {
        "id": "iSGa39S3eUoL"
      }
    },
    {
      "cell_type": "code",
      "execution_count": 7,
      "source": [
        "from google.colab import drive\r\n",
        "drive.mount('/content/drive')"
      ],
      "outputs": [
        {
          "output_type": "stream",
          "name": "stdout",
          "text": [
            "Mounted at /content/drive\n"
          ]
        }
      ],
      "metadata": {
        "colab": {
          "base_uri": "https://localhost:8080/"
        },
        "id": "erQ_EoC_N-Qy",
        "outputId": "3cf3b128-b691-458b-cca8-35dd659da119"
      }
    },
    {
      "cell_type": "markdown",
      "source": [
        "Import Libraries"
      ],
      "metadata": {
        "id": "XIVgxVGFNk16"
      }
    },
    {
      "cell_type": "code",
      "execution_count": 8,
      "source": [
        "import os\r\n",
        "import time\r\n",
        "import json\r\n",
        "import pickle\r\n",
        "import random\r\n",
        "import zipfile\r\n",
        "import collections\r\n",
        "import numpy as np\r\n",
        "from PIL import Image\r\n",
        "import tensorflow as tf\r\n",
        "import matplotlib.pyplot as plt"
      ],
      "outputs": [],
      "metadata": {
        "id": "q42lVMKYNrVo"
      }
    },
    {
      "cell_type": "markdown",
      "source": [
        "## Init base path (for selecting Model)"
      ],
      "metadata": {
        "id": "rlJGO_XmN1y3"
      }
    },
    {
      "cell_type": "code",
      "execution_count": 9,
      "source": [
        "max_length = 49  # maximum length of any caption in MS-COCO\r\n",
        "m_path = os.path.abspath('drive/MyDrive/model_data_MS_E35_B256')\r\n",
        "\r\n",
        "# max_length = 28  # maximum length of any caption in Flickr8k\r\n",
        "# m_path = os.path.abspath('drive/MyDrive/model_data_Flick_E35_B128')\r\n",
        "\r\n",
        "print('Base path:', m_path)\r\n",
        "# Ex: C:\\Users\\Sami\\Faculty of Information Technology\\Fifth_Year"
      ],
      "outputs": [
        {
          "output_type": "stream",
          "name": "stdout",
          "text": [
            "Base path: /content/drive/MyDrive/model_data_MS_E35_B256\n"
          ]
        }
      ],
      "metadata": {
        "colab": {
          "base_uri": "https://localhost:8080/"
        },
        "id": "vqQXnyy5N1Wn",
        "outputId": "d29e387a-cdc9-4e57-8c74-640f6672ad82"
      }
    },
    {
      "cell_type": "markdown",
      "source": [
        "## Model components"
      ],
      "metadata": {
        "id": "LeyWXRVUepFZ"
      }
    },
    {
      "cell_type": "code",
      "execution_count": 10,
      "source": [
        "def load_image(image_path):\r\n",
        "    img = tf.io.read_file(image_path)\r\n",
        "    img = tf.image.decode_jpeg(img, channels=3)\r\n",
        "    img = tf.image.resize(img, (299, 299))\r\n",
        "    img = tf.keras.applications.inception_v3.preprocess_input(img)\r\n",
        "    return img, image_path"
      ],
      "outputs": [],
      "metadata": {
        "id": "5v9B97u8Tx_V"
      }
    },
    {
      "cell_type": "markdown",
      "source": [
        "Preprocess the images using InceptionV3"
      ],
      "metadata": {
        "id": "ld8OqMdjT5oH"
      }
    },
    {
      "cell_type": "code",
      "execution_count": 11,
      "source": [
        "image_model = tf.keras.applications.InceptionV3(include_top=False, weights='imagenet')\r\n",
        "new_input = image_model.input\r\n",
        "hidden_layer = image_model.layers[-1].output\r\n",
        "\r\n",
        "image_features_extract_model = tf.keras.Model(new_input, hidden_layer)"
      ],
      "outputs": [
        {
          "output_type": "stream",
          "name": "stdout",
          "text": [
            "Downloading data from https://storage.googleapis.com/tensorflow/keras-applications/inception_v3/inception_v3_weights_tf_dim_ordering_tf_kernels_notop.h5\n",
            "87916544/87910968 [==============================] - 1s 0us/step\n",
            "87924736/87910968 [==============================] - 1s 0us/step\n"
          ]
        }
      ],
      "metadata": {
        "id": "yMZQwTPST6Yk",
        "colab": {
          "base_uri": "https://localhost:8080/"
        },
        "outputId": "75796240-4336-415b-de08-aaa6a4856050"
      }
    },
    {
      "cell_type": "code",
      "execution_count": 12,
      "source": [
        "# Choose the top 5000 words from the vocabulary\r\n",
        "top_k = 10000\r\n",
        "if os.path.isdir(m_path + '/model_data') and os.path.isfile(m_path + '/model_data/tokenizer.pickle'):\r\n",
        "  with open(m_path + '/model_data/tokenizer.pickle', 'rb') as handle:\r\n",
        "    tokenizer = pickle.load(handle)\r\n",
        "    tokenizer.word_index['<pad>'] = 0\r\n",
        "    tokenizer.index_word[0] = '<pad>'\r\n",
        "    print('Tokenizer is loaded!')\r\n",
        "else:\r\n",
        "  raise Exception('Couldn\\'t find Tokenizer file at ' + m_path + '/model_data/tokenizer.pickle')"
      ],
      "outputs": [
        {
          "output_type": "stream",
          "name": "stdout",
          "text": [
            "Tokenizer is loaded!\n"
          ]
        }
      ],
      "metadata": {
        "colab": {
          "base_uri": "https://localhost:8080/"
        },
        "id": "CWscYhazVCys",
        "outputId": "09154264-373b-4f6b-e416-dc9edc0d77c2"
      }
    },
    {
      "cell_type": "markdown",
      "source": [
        "Create a tf.data Dataset for training ($)"
      ],
      "metadata": {
        "id": "dpvusjTVfaGe"
      }
    },
    {
      "cell_type": "code",
      "execution_count": 13,
      "source": [
        "embedding_dim = 256\r\n",
        "units = 512\r\n",
        "vocab_size = top_k + 1\r\n",
        "\r\n",
        "# Shape of the vector extracted from InceptionV3 is (64, 2048)\r\n",
        "attention_features_shape = 64"
      ],
      "outputs": [],
      "metadata": {
        "id": "--tvgNUDfqRc"
      }
    },
    {
      "cell_type": "markdown",
      "source": [
        "Model"
      ],
      "metadata": {
        "id": "0XcZGS6ohPYE"
      }
    },
    {
      "cell_type": "code",
      "execution_count": 14,
      "source": [
        "class BahdanauAttention(tf.keras.Model):\r\n",
        "  def __init__(self, units):\r\n",
        "    super(BahdanauAttention, self).__init__()\r\n",
        "    self.W1 = tf.keras.layers.Dense(units)\r\n",
        "    self.W2 = tf.keras.layers.Dense(units)\r\n",
        "    self.V = tf.keras.layers.Dense(1)\r\n",
        "\r\n",
        "  def call(self, features, hidden):\r\n",
        "    # features(CNN_encoder output) shape == (batch_size, 64, embedding_dim)\r\n",
        "\r\n",
        "    # hidden shape == (batch_size, hidden_size)\r\n",
        "    # hidden_with_time_axis shape == (batch_size, 1, hidden_size)\r\n",
        "    hidden_with_time_axis = tf.expand_dims(hidden, 1)\r\n",
        "\r\n",
        "    # attention_hidden_layer shape == (batch_size, 64, units)\r\n",
        "    attention_hidden_layer = (tf.nn.tanh(self.W1(features) +\r\n",
        "                                         self.W2(hidden_with_time_axis)))\r\n",
        "\r\n",
        "    # score shape == (batch_size, 64, 1)\r\n",
        "    # This gives you an unnormalized score for each image feature.\r\n",
        "    score = self.V(attention_hidden_layer)\r\n",
        "\r\n",
        "    # attention_weights shape == (batch_size, 64, 1)\r\n",
        "    attention_weights = tf.nn.softmax(score, axis=1)\r\n",
        "\r\n",
        "    # context_vector shape after sum == (batch_size, hidden_size)\r\n",
        "    context_vector = attention_weights * features\r\n",
        "    context_vector = tf.reduce_sum(context_vector, axis=1)\r\n",
        "\r\n",
        "    return context_vector, attention_weights"
      ],
      "outputs": [],
      "metadata": {
        "id": "hSSN1v6chTSV"
      }
    },
    {
      "cell_type": "code",
      "execution_count": 15,
      "source": [
        "class CNN_Encoder(tf.keras.Model):\r\n",
        "    # Since you have already extracted the features and dumped it\r\n",
        "    # This encoder passes those features through a Fully connected layer\r\n",
        "    def __init__(self, embedding_dim):\r\n",
        "        super(CNN_Encoder, self).__init__()\r\n",
        "        # shape after fc == (batch_size, 64, embedding_dim)\r\n",
        "        self.fc = tf.keras.layers.Dense(embedding_dim)\r\n",
        "\r\n",
        "    def call(self, x):\r\n",
        "        x = self.fc(x)\r\n",
        "        x = tf.nn.relu(x)\r\n",
        "        return x"
      ],
      "outputs": [],
      "metadata": {
        "id": "z0T4rs7ZhU0d"
      }
    },
    {
      "cell_type": "code",
      "execution_count": 16,
      "source": [
        "class RNN_Decoder(tf.keras.Model):\r\n",
        "  def __init__(self, embedding_dim, units, vocab_size):\r\n",
        "    super(RNN_Decoder, self).__init__()\r\n",
        "    self.units = units\r\n",
        "\r\n",
        "    self.embedding = tf.keras.layers.Embedding(vocab_size, embedding_dim)\r\n",
        "    self.gru = tf.keras.layers.GRU(self.units,\r\n",
        "                                   return_sequences=True,\r\n",
        "                                   return_state=True,\r\n",
        "                                   recurrent_initializer='glorot_uniform')\r\n",
        "    self.fc1 = tf.keras.layers.Dense(self.units)\r\n",
        "    self.fc2 = tf.keras.layers.Dense(vocab_size)\r\n",
        "\r\n",
        "    self.attention = BahdanauAttention(self.units)\r\n",
        "\r\n",
        "  def call(self, x, features, hidden):\r\n",
        "    # defining attention as a separate model\r\n",
        "    context_vector, attention_weights = self.attention(features, hidden)\r\n",
        "\r\n",
        "    # x shape after passing through embedding == (batch_size, 1, embedding_dim)\r\n",
        "    x = self.embedding(x)\r\n",
        "\r\n",
        "    # x shape after concatenation == (batch_size, 1, embedding_dim + hidden_size)\r\n",
        "    x = tf.concat([tf.expand_dims(context_vector, 1), x], axis=-1)\r\n",
        "\r\n",
        "    # passing the concatenated vector to the GRU\r\n",
        "    output, state = self.gru(x)\r\n",
        "\r\n",
        "    # shape == (batch_size, max_length, hidden_size)\r\n",
        "    x = self.fc1(output)\r\n",
        "\r\n",
        "    # x shape == (batch_size * max_length, hidden_size)\r\n",
        "    x = tf.reshape(x, (-1, x.shape[2]))\r\n",
        "\r\n",
        "    # output shape == (batch_size * max_length, vocab)\r\n",
        "    x = self.fc2(x)\r\n",
        "\r\n",
        "    return x, state, attention_weights\r\n",
        "\r\n",
        "  def reset_state(self, batch_size):\r\n",
        "    return tf.zeros((batch_size, self.units))"
      ],
      "outputs": [],
      "metadata": {
        "id": "-0BSudcPhXlV"
      }
    },
    {
      "cell_type": "markdown",
      "source": [
        "## Loading Model (for selecting a specified epoch)"
      ],
      "metadata": {
        "id": "CQXhU-nvhdPa"
      }
    },
    {
      "cell_type": "code",
      "execution_count": 17,
      "source": [
        "enc_dec_num = '34'\r\n",
        "\r\n",
        "if os.path.isfile(f'{m_path}/model_data/encoder{enc_dec_num}.weights.index') and os.path.isfile(f'{m_path}/model_data/decoder{enc_dec_num}.weights.index'):\r\n",
        "  encoder = CNN_Encoder(embedding_dim)\r\n",
        "  decoder = RNN_Decoder(embedding_dim, units, vocab_size)\r\n",
        "  encoder.load_weights(f'{m_path}/model_data/encoder{enc_dec_num}.weights')\r\n",
        "  decoder.load_weights(f'{m_path}/model_data/decoder{enc_dec_num}.weights')\r\n",
        "  print('encoder/decode are loaded!')\r\n",
        "else:\r\n",
        "  raise Exception(f'encoder{enc_dec_num}/decoder{enc_dec_num} not found!')"
      ],
      "outputs": [
        {
          "output_type": "stream",
          "name": "stdout",
          "text": [
            "encoder/decode are loaded!\n"
          ]
        }
      ],
      "metadata": {
        "id": "ZSvZ43JihfId",
        "colab": {
          "base_uri": "https://localhost:8080/"
        },
        "outputId": "21cecbb1-1f78-41a9-85c3-0c7009d21405"
      }
    },
    {
      "cell_type": "markdown",
      "source": [
        "### Continue Loading Model Components"
      ],
      "metadata": {
        "id": "FbmzfaZMfNvH"
      }
    },
    {
      "cell_type": "code",
      "execution_count": 18,
      "source": [
        "optimizer = tf.keras.optimizers.Adam()"
      ],
      "outputs": [],
      "metadata": {
        "id": "q8WncDZNksjl"
      }
    },
    {
      "cell_type": "markdown",
      "source": [
        "Checkpoint ($)"
      ],
      "metadata": {
        "id": "-Qgl8QSQkxVU"
      }
    },
    {
      "cell_type": "code",
      "execution_count": 19,
      "source": [
        "if not os.path.isdir(m_path + '/model_data'):\r\n",
        "  raise Exception('model_data folder is missing!')\r\n",
        "checkpoint_path = m_path + \"/model_data/checkpoints\"\r\n",
        "ckpt = tf.train.Checkpoint(encoder=encoder,\r\n",
        "                           decoder=decoder,\r\n",
        "                           optimizer=optimizer)\r\n",
        "ckpt_manager = tf.train.CheckpointManager(ckpt, checkpoint_path, max_to_keep=50)"
      ],
      "outputs": [],
      "metadata": {
        "id": "q17oBK5claS9"
      }
    },
    {
      "cell_type": "code",
      "execution_count": 20,
      "source": [
        "last_epoch = 0\r\n",
        "if ckpt_manager.latest_checkpoint:\r\n",
        "  print(f'last checkpoint {ckpt_manager.latest_checkpoint}')\r\n",
        "  last_epoch = int(ckpt_manager.latest_checkpoint.split('-')[-1])\r\n",
        "  # restoring the latest checkpoint in checkpoint_path\r\n",
        "  ckpt.restore(ckpt_manager.latest_checkpoint)\r\n",
        "print('starting model from epoch:', last_epoch)"
      ],
      "outputs": [
        {
          "output_type": "stream",
          "name": "stdout",
          "text": [
            "last checkpoint /content/drive/MyDrive/model_data_MS_E35_B256/model_data/checkpoints/ckpt-35\n",
            "starting model from epoch: 35\n"
          ]
        }
      ],
      "metadata": {
        "colab": {
          "base_uri": "https://localhost:8080/"
        },
        "id": "c8lMB4kAl0Y1",
        "outputId": "cd0c59c0-99dd-45ad-a1d3-45b933067462"
      }
    },
    {
      "cell_type": "markdown",
      "source": [
        "## Testing"
      ],
      "metadata": {
        "id": "YDfK1mh1s4SL"
      }
    },
    {
      "cell_type": "markdown",
      "source": [
        "### Testing utils"
      ],
      "metadata": {
        "id": "zJSqeGE2fVZI"
      }
    },
    {
      "cell_type": "code",
      "execution_count": 21,
      "source": [
        "def evaluate(image):\r\n",
        "    attention_plot = np.zeros((max_length, attention_features_shape))\r\n",
        "\r\n",
        "    hidden = decoder.reset_state(batch_size=1)\r\n",
        "\r\n",
        "    temp_input = tf.expand_dims(load_image(image)[0], 0)\r\n",
        "    img_tensor_val = image_features_extract_model(temp_input)\r\n",
        "    img_tensor_val = tf.reshape(img_tensor_val, (img_tensor_val.shape[0],\r\n",
        "                                                 -1,\r\n",
        "                                                 img_tensor_val.shape[3]))\r\n",
        "\r\n",
        "    features = encoder(img_tensor_val)\r\n",
        "\r\n",
        "    dec_input = tf.expand_dims([tokenizer.word_index['<start>']], 0)\r\n",
        "    result = []\r\n",
        "\r\n",
        "    for i in range(max_length):\r\n",
        "        predictions, hidden, attention_weights = decoder(dec_input,\r\n",
        "                                                         features,\r\n",
        "                                                         hidden)\r\n",
        "\r\n",
        "        attention_plot[i] = tf.reshape(attention_weights, (-1, )).numpy()\r\n",
        "\r\n",
        "        predicted_id = tf.random.categorical(predictions, 1)[0][0].numpy()\r\n",
        "        result.append(tokenizer.index_word[predicted_id])\r\n",
        "\r\n",
        "        if tokenizer.index_word[predicted_id] == '<end>':\r\n",
        "            return result, attention_plot\r\n",
        "\r\n",
        "        dec_input = tf.expand_dims([predicted_id], 0)\r\n",
        "\r\n",
        "    attention_plot = attention_plot[:len(result), :]\r\n",
        "    return result, attention_plot"
      ],
      "outputs": [],
      "metadata": {
        "id": "5GCh0YOFs7tl"
      }
    },
    {
      "cell_type": "code",
      "execution_count": 22,
      "source": [
        "def plot_attention(image, result, attention_plot):\r\n",
        "    temp_image = np.array(Image.open(image))\r\n",
        "\r\n",
        "    fig = plt.figure(figsize=(10, 10))\r\n",
        "\r\n",
        "    len_result = len(result)\r\n",
        "    for i in range(len_result):\r\n",
        "        temp_att = np.resize(attention_plot[i], (8, 8))\r\n",
        "        grid_size = max(np.ceil(len_result/2), 2)\r\n",
        "        ax = fig.add_subplot(grid_size, grid_size, i+1)\r\n",
        "        ax.set_title(result[i])\r\n",
        "        img = ax.imshow(temp_image)\r\n",
        "        ax.imshow(temp_att, cmap='gray', alpha=0.6, extent=img.get_extent())\r\n",
        "\r\n",
        "    plt.tight_layout()\r\n",
        "    plt.show()"
      ],
      "outputs": [],
      "metadata": {
        "id": "CgFTp-CQs_98"
      }
    },
    {
      "cell_type": "markdown",
      "source": [
        "Test on a validatoin image (may i'll use this for Bleu score)"
      ],
      "metadata": {
        "id": "D9Q8AQWjtbRM"
      }
    },
    {
      "cell_type": "code",
      "execution_count": 23,
      "source": [
        "# # captions on the validation set\r\n",
        "# rid = np.random.randint(0, len(img_name_val))\r\n",
        "# image = img_name_val[rid]\r\n",
        "# real_caption = ' '.join([tokenizer.index_word[i]\r\n",
        "#                         for i in cap_val[rid] if i not in [0]])\r\n",
        "# result, attention_plot = evaluate(image)\r\n",
        "\r\n",
        "# print('Real Caption:', real_caption)\r\n",
        "# print('Prediction Caption:', ' '.join(result))\r\n",
        "# plot_attention(image, result, attention_plot)\r\n",
        "# Image.open(image)"
      ],
      "outputs": [],
      "metadata": {
        "id": "V7PrN0n4tCWM"
      }
    },
    {
      "cell_type": "code",
      "execution_count": 24,
      "source": [
        "def predict_url_image(image_url):\r\n",
        "  image_name_extension = image_url.split('/')[-1]\r\n",
        "  print(image_name_extension)\r\n",
        "  image_path = tf.keras.utils.get_file(image_name_extension, origin=image_url, cache_subdir='/content')\r\n",
        "  result, attention_plot = evaluate(image_path)\r\n",
        "  return image_path, result, attention_plot"
      ],
      "outputs": [],
      "metadata": {
        "id": "RC8DcWbyt2HS"
      }
    },
    {
      "cell_type": "markdown",
      "source": [
        "### Test on any image"
      ],
      "metadata": {
        "id": "nMQ0F398ticz"
      }
    },
    {
      "cell_type": "code",
      "execution_count": 25,
      "source": [
        "# url = 'https://ichef.bbci.co.uk/news/873/cpsprodpb/2F0D/production/_118054021_1afcbf08-6b32-4d75-9cca-783d61d7b94f.jpg'\r\n",
        "# url = 'https://www.esafety.gov.au/sites/default/files/2019-08/Remove%20images%20and%20video.jpg'\r\n",
        "# url = 'https://i2.wp.com/digital-photography-school.com/wp-content/uploads/2016/02/Headshot-Photography-London-1052.jpeg'\r\n",
        "url = 'https://i.chzbgr.com/original/3933445/h5ABCC7A5/just-20-random-animal-photos-that-will-make-you-scratch-your-head'\r\n",
        "# url = 'https://image.shutterstock.com/image-photo/action-hero-muscled-man-holding-260nw-196778930.jpg'\r\n",
        "# url = 'https://d28m5bx785ox17.cloudfront.net/v1/img/_E0oIsccZlmMAfrWZNVRGl4yaIYZRD2RiHCXgJFMIjc=/d/l'\r\n",
        "# url = 'https://images.unsplash.com/photo-1496181133206-80ce9b88a853'\r\n",
        "# url = 'https://thumbor.forbes.com/thumbor/fit-in/x/https://www.forbes.com/advisor/wp-content/uploads/2021/06/inground-pool.jpeg'\r\n",
        "# url = 'https://riverdalepress.com/uploads/original/1470848884_42a8.jpg'\r\n",
        "# url = 'https://bestsellingcarsblog.com/wp-content/uploads/2019/06/Shanghai-Street-3.jpg'\r\n",
        "# url = 'https://i.pinimg.com/originals/d0/0d/bd/d00dbde1ddf6ff4060aa183600900f8b.jpg'\r\n",
        "# url = 'https://hips.hearstapps.com/hmg-prod.s3.amazonaws.com/images/kitchen-decor-ideas-1580491833.jpg?crop=1.00xw:0.669xh;0,0.151xh&resize=640:*'\r\n",
        "# url = 'https://c8.alamy.com/comp/X7M18P/lecturer-and-students-in-a-university-amphitheatre-classroom-X7M18P.jpg'"
      ],
      "outputs": [],
      "metadata": {
        "id": "GNgEEAN9f_SJ"
      }
    },
    {
      "cell_type": "code",
      "execution_count": 26,
      "source": [
        "image_path, result, attention_plot = predict_url_image(url)\r\n",
        "print('Prediction Caption:', ' '.join(result))\r\n",
        "plot_attention(image_path, result, attention_plot)\r\n",
        "# opening the image\r\n",
        "# Image.open(image_path)"
      ],
      "outputs": [
        {
          "output_type": "stream",
          "name": "stdout",
          "text": [
            "just-20-random-animal-photos-that-will-make-you-scratch-your-head\n",
            "Downloading data from https://i.chzbgr.com/original/3933445/h5ABCC7A5/just-20-random-animal-photos-that-will-make-you-scratch-your-head\n",
            "65536/64825 [==============================] - 0s 0us/step\n",
            "73728/64825 [==================================] - 0s 0us/step\n",
            "Prediction Caption: كلب صغير يقف في العشب في حقل أخضر مورق يجلسان على العشب حولها <end>\n"
          ]
        },
        {
          "output_type": "display_data",
          "data": {
            "text/plain": [
              "<Figure size 720x720 with 14 Axes>"
            ],
            "image/png": "[encoded data removed]"
          },
          "metadata": {
            "needs_background": "light"
          }
        }
      ],
      "metadata": {
        "colab": {
          "base_uri": "https://localhost:8080/",
          "height": 294
        },
        "id": "OzSdUnvOuFAd",
        "outputId": "9e41f148-778b-49e3-b06b-a746dfd6f51f"
      }
    },
    {
      "cell_type": "markdown",
      "source": [
        "## Metrics"
      ],
      "metadata": {
        "id": "G88WZvst3Ndn"
      }
    },
    {
      "cell_type": "code",
      "execution_count": 27,
      "source": [
        "m_path = os.path.abspath('')"
      ],
      "outputs": [],
      "metadata": {
        "id": "QifTAw1P9NFI"
      }
    },
    {
      "cell_type": "markdown",
      "source": [
        "### Bleu 1"
      ],
      "metadata": {
        "id": "JLtTZYx73Pwl"
      }
    },
    {
      "cell_type": "markdown",
      "source": [
        "Download Arabic Captions"
      ],
      "metadata": {
        "id": "ZR-5p6C74K1l"
      }
    },
    {
      "cell_type": "code",
      "execution_count": 28,
      "source": [
        "if not os.path.isfile(m_path + '/ar_captions_train2014.json'):\r\n",
        "  print('downloading arabic captions....')\r\n",
        "  annotation_file = tf.keras.utils.get_file('ar_captions_train2014.json',\r\n",
        "                                            cache_subdir= m_path,\r\n",
        "                                            origin='https://github.com/canesee-project/Arabic-COCO/raw/master/ar_captions_train2014.json')\r\n",
        "else:\r\n",
        "  print('Arabic captions file is already downloaded!')"
      ],
      "outputs": [
        {
          "output_type": "stream",
          "name": "stdout",
          "text": [
            "downloading arabic captions....\n",
            "Downloading data from https://github.com/canesee-project/Arabic-COCO/raw/master/ar_captions_train2014.json\n",
            "77766656/77760141 [==============================] - 1s 0us/step\n",
            "77774848/77760141 [==============================] - 1s 0us/step\n"
          ]
        }
      ],
      "metadata": {
        "colab": {
          "base_uri": "https://localhost:8080/"
        },
        "id": "ucAucf-B3MBw",
        "outputId": "4c555b87-e5ef-4106-a660-097deeae4593"
      }
    },
    {
      "cell_type": "markdown",
      "source": [
        "Download MS-COCO images dataset"
      ],
      "metadata": {
        "id": "zEm__MtE4Oax"
      }
    },
    {
      "cell_type": "code",
      "execution_count": 29,
      "source": [
        "if not os.path.isfile(m_path + '/train2014.zip'):\r\n",
        "  print('downloading MS-COCO dataset....')\r\n",
        "  image_zip = tf.keras.utils.get_file('train2014.zip',\r\n",
        "                                      cache_subdir= m_path,\r\n",
        "                                      origin='http://images.cocodataset.org/zips/train2014.zip',\r\n",
        "                                      extract=False)\r\n",
        "else:\r\n",
        "  print('MS-COCO dataset is already downloaded!')"
      ],
      "outputs": [
        {
          "output_type": "stream",
          "name": "stdout",
          "text": [
            "downloading MS-COCO dataset....\n",
            "Downloading data from http://images.cocodataset.org/zips/train2014.zip\n",
            "13510574080/13510573713 [==============================] - 375s 0us/step\n",
            "13510582272/13510573713 [==============================] - 375s 0us/step\n"
          ]
        }
      ],
      "metadata": {
        "colab": {
          "base_uri": "https://localhost:8080/"
        },
        "id": "WngLRocr4L2E",
        "outputId": "b433a06b-f088-4267-f224-776bbe4df5e0"
      }
    },
    {
      "cell_type": "code",
      "execution_count": 30,
      "source": [
        "if not os.path.isdir(m_path + '/train2014'):\r\n",
        "  print('unzipping dataset.....')\r\n",
        "  with zipfile.ZipFile(m_path + '/train2014.zip', 'r') as zip_ref:\r\n",
        "    zip_ref.extractall(m_path)"
      ],
      "outputs": [
        {
          "output_type": "stream",
          "name": "stdout",
          "text": [
            "unzipping dataset.....\n"
          ]
        }
      ],
      "metadata": {
        "colab": {
          "base_uri": "https://localhost:8080/"
        },
        "id": "UwwxZxo84Rg5",
        "outputId": "4530970f-f183-419c-eaf4-dc120589cad2"
      }
    },
    {
      "cell_type": "markdown",
      "source": [
        "Init Images & annotations dictionary"
      ],
      "metadata": {
        "id": "vZiA98J24XX3"
      }
    },
    {
      "cell_type": "code",
      "execution_count": 31,
      "source": [
        "with open(m_path + '/ar_captions_train2014.json', 'r') as f:\r\n",
        "    annotations = json.load(f)\r\n",
        "\r\n",
        "# Group all captions together having the same image ID.\r\n",
        "PATH = m_path + '/train2014/'\r\n",
        "image_path_to_caption = collections.defaultdict(list)\r\n",
        "for val in annotations['annotations']:\r\n",
        "  caption = f\"<start> {val['caption']} <end>\"\r\n",
        "  image_path = PATH + 'COCO_train2014_' + '%012d.jpg' % (val['image_id'])\r\n",
        "  image_path_to_caption[image_path].append(caption)"
      ],
      "outputs": [],
      "metadata": {
        "id": "0fnwnJcr4Swx"
      }
    },
    {
      "cell_type": "code",
      "execution_count": 32,
      "source": [
        "print(len(image_path_to_caption))"
      ],
      "outputs": [
        {
          "output_type": "stream",
          "name": "stdout",
          "text": [
            "82783\n"
          ]
        }
      ],
      "metadata": {
        "colab": {
          "base_uri": "https://localhost:8080/"
        },
        "id": "8_dyHvPaDToU",
        "outputId": "f9c5f583-5494-4789-bac5-6de7129da4e1"
      }
    },
    {
      "cell_type": "markdown",
      "source": [
        "Limit Training Images ($)"
      ],
      "metadata": {
        "id": "8NWzWADQ4fwf"
      }
    },
    {
      "cell_type": "code",
      "execution_count": 33,
      "source": [
        "image_paths = list(image_path_to_caption.keys())\r\n",
        "random.seed(4)\r\n",
        "random.shuffle(image_paths)\r\n",
        "\r\n",
        "# train_image_paths = image_paths[:10]\r\n",
        "train_image_paths = image_paths\r\n",
        "print('training images count:', len(train_image_paths))\r\n",
        "\r\n",
        "train_captions = []\r\n",
        "img_name_vector = []\r\n",
        "\r\n",
        "for image_path in train_image_paths:\r\n",
        "  caption_list = image_path_to_caption[image_path]\r\n",
        "  train_captions.extend(caption_list)\r\n",
        "  img_name_vector.extend([image_path] * len(caption_list))"
      ],
      "outputs": [
        {
          "output_type": "stream",
          "name": "stdout",
          "text": [
            "training images count: 82783\n"
          ]
        }
      ],
      "metadata": {
        "colab": {
          "base_uri": "https://localhost:8080/"
        },
        "id": "wU_H6kDM4ZCX",
        "outputId": "b5140c09-501d-42bc-be3b-a416e37e2745"
      }
    },
    {
      "cell_type": "markdown",
      "source": [
        "Tokenize the captions ($)"
      ],
      "metadata": {
        "id": "aw-Epunj5X7L"
      }
    },
    {
      "cell_type": "code",
      "execution_count": 34,
      "source": [
        "# Find the maximum length of any caption in the dataset\r\n",
        "def calc_max_length(tensor):\r\n",
        "    return max(len(t) for t in tensor)"
      ],
      "outputs": [],
      "metadata": {
        "id": "45dLZtE65Tg5"
      }
    },
    {
      "cell_type": "markdown",
      "source": [
        "Split the data into training and testing"
      ],
      "metadata": {
        "id": "a_hc2akH6Vw4"
      }
    },
    {
      "cell_type": "code",
      "execution_count": 35,
      "source": [
        "# Create training and validation sets using an 80-20 split randomly.\r\n",
        "img_keys = list(set(image_path_to_caption.keys()))\r\n",
        "random.seed(4)\r\n",
        "random.shuffle(img_keys)\r\n",
        "print(len(img_keys))\r\n",
        "slice_index = int(len(img_keys)*0.8)\r\n",
        "img_name_val_keys = img_keys[slice_index:]\r\n",
        "print(len(img_name_val_keys))"
      ],
      "outputs": [
        {
          "output_type": "stream",
          "name": "stdout",
          "text": [
            "82783\n",
            "16557\n"
          ]
        }
      ],
      "metadata": {
        "colab": {
          "base_uri": "https://localhost:8080/"
        },
        "id": "dK6DS05V5gqu",
        "outputId": "9a9ac43c-cc5c-4fb5-c299-b3216e528ae3"
      }
    },
    {
      "cell_type": "code",
      "execution_count": 36,
      "source": [
        "punc = '''!()-[]{};:'\"\\,<>./?@#$%^&*_~'''\r\n",
        "def remove_punc(string):\r\n",
        "  return \"\".join(ch for ch in string if ch not in punc)"
      ],
      "outputs": [],
      "metadata": {
        "id": "Fcg48lPyROaF"
      }
    },
    {
      "cell_type": "code",
      "execution_count": null,
      "source": [
        "# captions on the validation set\r\n",
        "hypotheses = []\r\n",
        "list_of_references = []\r\n",
        "for img in img_name_val_keys:\r\n",
        "  # Prediction\r\n",
        "  result, _ = evaluate(img)\r\n",
        "  hypotheses.append(result[:-1])\r\n",
        "  # Real captions\r\n",
        "  refs = list()\r\n",
        "  captions = image_path_to_caption[img]\r\n",
        "  for caption in captions:\r\n",
        "    caption = remove_punc(caption)\r\n",
        "    ref = caption.split(' ')[1:-1]\r\n",
        "    refs.append(ref)\r\n",
        "  list_of_references.append(refs)\r\n",
        "\r\n",
        "# print(\"hyp:\")\r\n",
        "# for hyp in hypotheses:\r\n",
        "#   print(hyp)\r\n",
        "\r\n",
        "# print('refs:')\r\n",
        "# for r in list_of_references: \r\n",
        "#   print('ref:')\r\n",
        "#   for rr in r:\r\n",
        "#     print(rr)"
      ],
      "outputs": [],
      "metadata": {
        "id": "hCAuOpfB6fc7"
      }
    },
    {
      "cell_type": "code",
      "execution_count": 50,
      "source": [
        "len(hypotheses)"
      ],
      "outputs": [
        {
          "output_type": "execute_result",
          "data": {
            "text/plain": [
              "7640"
            ]
          },
          "metadata": {},
          "execution_count": 50
        }
      ],
      "metadata": {
        "colab": {
          "base_uri": "https://localhost:8080/"
        },
        "id": "B6aSNwOwoPM6",
        "outputId": "6274d389-222f-4c16-99bc-1f241dcd5fff"
      }
    },
    {
      "cell_type": "code",
      "execution_count": 51,
      "source": [
        "from nltk.translate import bleu_score\r\n",
        "# Bleu-1\r\n",
        "BLEUscore = bleu_score.corpus_bleu(list_of_references, hypotheses, weights=(1, 0, 0, 0))\r\n",
        "print(BLEUscore)"
      ],
      "outputs": [
        {
          "output_type": "stream",
          "name": "stdout",
          "text": [
            "0.36409453694784644\n"
          ]
        }
      ],
      "metadata": {
        "colab": {
          "base_uri": "https://localhost:8080/"
        },
        "id": "Asrf8o9W7VsI",
        "outputId": "aa0a2431-df82-4814-e739-0828873adb58"
      }
    },
    {
      "cell_type": "code",
      "execution_count": 52,
      "source": [
        "# Bleu-2\r\n",
        "BLEUscore = bleu_score.corpus_bleu(list_of_references, hypotheses, weights=(0, 1, 0, 0))\r\n",
        "print(BLEUscore)"
      ],
      "outputs": [
        {
          "output_type": "stream",
          "name": "stdout",
          "text": [
            "0.13319603144741268\n"
          ]
        }
      ],
      "metadata": {
        "colab": {
          "base_uri": "https://localhost:8080/"
        },
        "id": "QvVTcF81VQer",
        "outputId": "34211b8f-da1e-42a9-80c0-f6bfeff5bd03"
      }
    },
    {
      "cell_type": "code",
      "execution_count": 53,
      "source": [
        "# Bleu-3\r\n",
        "BLEUscore = bleu_score.corpus_bleu(list_of_references, hypotheses, weights=(0, 0, 1, 0))\r\n",
        "print(BLEUscore)"
      ],
      "outputs": [
        {
          "output_type": "stream",
          "name": "stdout",
          "text": [
            "0.04727018198786748\n"
          ]
        }
      ],
      "metadata": {
        "colab": {
          "base_uri": "https://localhost:8080/"
        },
        "id": "NHaA-jA-XAiu",
        "outputId": "17bb385c-9db3-412c-ecc3-dbf45ea8a8d6"
      }
    },
    {
      "cell_type": "code",
      "execution_count": 54,
      "source": [
        "# Bleu-4\r\n",
        "BLEUscore = bleu_score.corpus_bleu(list_of_references, hypotheses, weights=(0, 0, 0, 1))\r\n",
        "print(BLEUscore)"
      ],
      "outputs": [
        {
          "output_type": "stream",
          "name": "stdout",
          "text": [
            "0.017387111413660082\n"
          ]
        }
      ],
      "metadata": {
        "colab": {
          "base_uri": "https://localhost:8080/"
        },
        "id": "SDPM_redXDen",
        "outputId": "013ff74e-f8a6-42d6-83c5-9dfb08adbbb3"
      }
    },
    {
      "cell_type": "code",
      "execution_count": null,
      "source": [],
      "outputs": [],
      "metadata": {
        "id": "HvHWFgbIoU8B"
      }
    }
  ]
}